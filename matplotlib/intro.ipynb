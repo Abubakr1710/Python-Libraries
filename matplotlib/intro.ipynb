{
 "cells": [
  {
   "attachments": {},
   "cell_type": "markdown",
   "metadata": {},
   "source": [
    "# <center>**Matplotlib**</center>\n",
    "#### Official website for Matplotlib: https://matplotlib.org"
   ]
  },
  {
   "cell_type": "code",
   "execution_count": null,
   "metadata": {},
   "outputs": [],
   "source": []
  }
 ],
 "metadata": {
  "kernelspec": {
   "display_name": ".myenv",
   "language": "python",
   "name": "python3"
  },
  "language_info": {
   "name": "python",
   "version": "3.10.6"
  },
  "orig_nbformat": 4,
  "vscode": {
   "interpreter": {
    "hash": "78daaa1969318ad8331863db030691790b04ae96fed010b93f449f2babfcbf4f"
   }
  }
 },
 "nbformat": 4,
 "nbformat_minor": 2
}
